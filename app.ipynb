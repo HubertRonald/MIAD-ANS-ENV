{
 "cells": [
  {
   "cell_type": "markdown",
   "metadata": {},
   "source": [
    "![](./figs/ans_banner_1920x200.png)"
   ]
  },
  {
   "cell_type": "markdown",
   "metadata": {},
   "source": [
    "### Test Bibliotecas"
   ]
  },
  {
   "cell_type": "markdown",
   "metadata": {},
   "source": [
    "##### Notebook LSC1"
   ]
  },
  {
   "cell_type": "code",
   "execution_count": 1,
   "metadata": {},
   "outputs": [
    {
     "name": "stderr",
     "output_type": "stream",
     "text": [
      "/usr/local/lib/python3.7/site-packages/geopandas/_compat.py:115: UserWarning: The Shapely GEOS version (3.10.3-CAPI-1.16.1) is incompatible with the GEOS version PyGEOS was compiled with (3.10.4-CAPI-1.16.2). Conversions between both will be slow.\n",
      "  shapely_geos_version, geos_capi_version_string\n"
     ]
    }
   ],
   "source": [
    "import geopandas as gpd\n",
    "import matplotlib.pyplot as plt\n",
    "\n",
    "from pyrosm import OSM, get_data\n",
    "from IPython.display import IFrame\n",
    "import pandas as pd\n",
    "\n",
    "from geopy.distance import geodesic\n",
    "from shapely.ops import nearest_points\n",
    "import folium"
   ]
  },
  {
   "cell_type": "markdown",
   "metadata": {},
   "source": [
    "##### Notebook LSC2"
   ]
  },
  {
   "cell_type": "code",
   "execution_count": 2,
   "metadata": {},
   "outputs": [],
   "source": [
    "import numpy as np\n",
    "import pandas as pd\n",
    "import matplotlib.pyplot as plt\n",
    "\n",
    "import seaborn as sns\n",
    "import scipy.stats\n",
    "import sklearn.model_selection\n",
    "from sklearn.neighbors import KernelDensity\n",
    "\n",
    "from sklearn.model_selection import GridSearchCV\n",
    "from scipy import stats\n",
    "import geopandas as gpd\n",
    "from bokeh.models import ColumnDataSource\n",
    "from bokeh.plotting import figure, output_notebook, show\n",
    "from bokeh.tile_providers import CARTODBPOSITRON, get_provider\n",
    "\n",
    "import statsmodels.api as sm\n",
    "import geojsoncontour\n",
    "import folium"
   ]
  },
  {
   "cell_type": "markdown",
   "metadata": {},
   "source": [
    "### Información de Sesión"
   ]
  },
  {
   "cell_type": "code",
   "execution_count": 3,
   "metadata": {},
   "outputs": [
    {
     "name": "stdout",
     "output_type": "stream",
     "text": [
      "-----\n",
      "bokeh               2.4.3\n",
      "folium              0.14.0\n",
      "geojsoncontour      NA\n",
      "geopandas           0.10.2\n",
      "geopy               2.4.0\n",
      "matplotlib          3.3.1\n",
      "numpy               1.19.1\n",
      "pandas              1.1.1\n",
      "pyrosm              NA\n",
      "scipy               1.7.3\n",
      "seaborn             0.12.2\n",
      "session_info        1.0.0\n",
      "shapely             1.8.5\n",
      "sklearn             0.23.2\n",
      "statsmodels         0.13.5\n",
      "-----\n",
      "IPython             7.34.0\n",
      "jupyter_client      7.4.9\n",
      "jupyter_core        4.12.0\n",
      "jupyterlab          2.1.1\n",
      "notebook            6.0.3\n",
      "-----\n",
      "Python 3.7.17 (default, Jun 13 2023, 16:36:15) [GCC 8.3.0]\n",
      "Linux-5.15.49-linuxkit-x86_64-with-debian-10.13\n",
      "-----\n",
      "Session information updated at 2025-09-17 05:43\n"
     ]
    }
   ],
   "source": [
    "import session_info\n",
    "\n",
    "session_info.show(html=False)"
   ]
  }
 ],
 "metadata": {
  "kernelspec": {
   "display_name": "Python 3",
   "language": "python",
   "name": "python3"
  },
  "language_info": {
   "codemirror_mode": {
    "name": "ipython",
    "version": 3
   },
   "file_extension": ".py",
   "mimetype": "text/x-python",
   "name": "python",
   "nbconvert_exporter": "python",
   "pygments_lexer": "ipython3",
   "version": "3.7.17"
  }
 },
 "nbformat": 4,
 "nbformat_minor": 2
}
